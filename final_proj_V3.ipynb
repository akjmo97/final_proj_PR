{
 "cells": [
  {
   "cell_type": "code",
   "execution_count": 2,
   "metadata": {},
   "outputs": [],
   "source": [
    "%matplotlib inline\n",
    "import os\n",
    "from IPython.display import Image\n",
    "from IPython.display import display\n",
    "import numpy as np\n",
    "import pandas as pd\n",
    "from scipy import interp\n",
    "from sklearn.linear_model import LinearRegression, LogisticRegression\n",
    "from sklearn.metrics import auc, confusion_matrix,  f1_score, precision_score, recall_score, roc_curve\n",
    "from sklearn.model_selection import train_test_split\n",
    "from sklearn.preprocessing import StandardScaler\n",
    "from cycler import cycler\n",
    "import matplotlib\n",
    "matplotlib.rcParams.update({'font.size': 22})\n",
    "plt = matplotlib.pyplot"
   ]
  },
  {
   "cell_type": "code",
   "execution_count": 3,
   "metadata": {},
   "outputs": [],
   "source": [
    "from glob import glob\n",
    "files = glob(\"player_data/*.csv\")"
   ]
  },
  {
   "cell_type": "code",
   "execution_count": 4,
   "metadata": {},
   "outputs": [
    {
     "data": {
      "text/html": [
       "<div>\n",
       "<style scoped>\n",
       "    .dataframe tbody tr th:only-of-type {\n",
       "        vertical-align: middle;\n",
       "    }\n",
       "\n",
       "    .dataframe tbody tr th {\n",
       "        vertical-align: top;\n",
       "    }\n",
       "\n",
       "    .dataframe thead th {\n",
       "        text-align: right;\n",
       "    }\n",
       "</style>\n",
       "<table border=\"1\" class=\"dataframe\">\n",
       "  <thead>\n",
       "    <tr style=\"text-align: right;\">\n",
       "      <th></th>\n",
       "      <th>Unnamed: 0</th>\n",
       "      <th>Age</th>\n",
       "      <th>Squad</th>\n",
       "      <th>Country</th>\n",
       "      <th>Comp</th>\n",
       "      <th>LgRank</th>\n",
       "      <th>90s</th>\n",
       "      <th>Cmp</th>\n",
       "      <th>Att</th>\n",
       "      <th>Cmp%</th>\n",
       "      <th>...</th>\n",
       "      <th>PrgDist.1</th>\n",
       "      <th>Prog.1</th>\n",
       "      <th>1/3.1</th>\n",
       "      <th>CPA</th>\n",
       "      <th>Mis</th>\n",
       "      <th>Dis</th>\n",
       "      <th>Targ</th>\n",
       "      <th>Rec</th>\n",
       "      <th>Rec%</th>\n",
       "      <th>Prog.2</th>\n",
       "    </tr>\n",
       "  </thead>\n",
       "  <tbody>\n",
       "    <tr>\n",
       "      <th>0</th>\n",
       "      <td>0</td>\n",
       "      <td>37</td>\n",
       "      <td>Chelsea</td>\n",
       "      <td>eng ENG</td>\n",
       "      <td>1. Premier League</td>\n",
       "      <td>4th</td>\n",
       "      <td>5.0</td>\n",
       "      <td>121</td>\n",
       "      <td>165</td>\n",
       "      <td>73.3</td>\n",
       "      <td>...</td>\n",
       "      <td>208</td>\n",
       "      <td>0</td>\n",
       "      <td>0</td>\n",
       "      <td>0</td>\n",
       "      <td>0</td>\n",
       "      <td>0</td>\n",
       "      <td>110</td>\n",
       "      <td>110</td>\n",
       "      <td>100.0</td>\n",
       "      <td>0</td>\n",
       "    </tr>\n",
       "    <tr>\n",
       "      <th>1</th>\n",
       "      <td>1</td>\n",
       "      <td>38</td>\n",
       "      <td>Chelsea</td>\n",
       "      <td>eng ENG</td>\n",
       "      <td>1. Premier League</td>\n",
       "      <td>4th</td>\n",
       "      <td>1.0</td>\n",
       "      <td>24</td>\n",
       "      <td>26</td>\n",
       "      <td>92.3</td>\n",
       "      <td>...</td>\n",
       "      <td>20</td>\n",
       "      <td>0</td>\n",
       "      <td>0</td>\n",
       "      <td>0</td>\n",
       "      <td>0</td>\n",
       "      <td>0</td>\n",
       "      <td>15</td>\n",
       "      <td>15</td>\n",
       "      <td>100.0</td>\n",
       "      <td>0</td>\n",
       "    </tr>\n",
       "  </tbody>\n",
       "</table>\n",
       "<p>2 rows × 77 columns</p>\n",
       "</div>"
      ],
      "text/plain": [
       "   Unnamed: 0  Age    Squad  Country               Comp LgRank  90s  Cmp  Att  \\\n",
       "0           0   37  Chelsea  eng ENG  1. Premier League    4th  5.0  121  165   \n",
       "1           1   38  Chelsea  eng ENG  1. Premier League    4th  1.0   24   26   \n",
       "\n",
       "   Cmp%   ...    PrgDist.1  Prog.1  1/3.1  CPA  Mis  Dis  Targ  Rec   Rec%  \\\n",
       "0  73.3   ...          208       0      0    0    0    0   110  110  100.0   \n",
       "1  92.3   ...           20       0      0    0    0    0    15   15  100.0   \n",
       "\n",
       "   Prog.2  \n",
       "0       0  \n",
       "1       0  \n",
       "\n",
       "[2 rows x 77 columns]"
      ]
     },
     "execution_count": 4,
     "metadata": {},
     "output_type": "execute_result"
    }
   ],
   "source": [
    "pd.read_csv(files[6])\n"
   ]
  },
  {
   "cell_type": "code",
   "execution_count": 5,
   "metadata": {},
   "outputs": [
    {
     "data": {
      "text/plain": [
       "532"
      ]
     },
     "execution_count": 5,
     "metadata": {},
     "output_type": "execute_result"
    }
   ],
   "source": [
    "len(files)"
   ]
  },
  {
   "cell_type": "markdown",
   "metadata": {},
   "source": [
    "dfxx = pd.read_csv(files[532]) ## out of range"
   ]
  },
  {
   "cell_type": "markdown",
   "metadata": {},
   "source": [
    "dfxx"
   ]
  },
  {
   "cell_type": "code",
   "execution_count": 6,
   "metadata": {},
   "outputs": [],
   "source": [
    "def one_player(df_one):\n",
    "    df_num=df_one.shape[0]\n",
    "    one_player=np.zeros((1, 71))\n",
    "    for i in range(0,df_num):\n",
    "    #print(i)\n",
    "        if df_one.values[i,4]=='1. Premier League' :  # only collect the Premier Leage data\n",
    "            dfxx= df_one.values[i,6:]           # collect the data after the column \"LgRank\"\n",
    "            one_player=np.row_stack((one_player,dfxx))\n",
    "    one_player=np.delete(one_player, 0, 0)     # delete temporay row\n",
    "    one_player=np.delete(one_player, 71-15, 1) # move the column have NAN\n",
    "    one_player=np.mean(one_player,axis=0)      # average the data for different seasons\n",
    "    return one_player"
   ]
  },
  {
   "cell_type": "markdown",
   "metadata": {},
   "source": [
    "one_player(dfxx).shape"
   ]
  },
  {
   "cell_type": "code",
   "execution_count": 7,
   "metadata": {},
   "outputs": [],
   "source": [
    "player= np.zeros((1, 70))  #70 becuase that i delelete one NAN column\n",
    "for i in range(0,532):\n",
    "    df_one = pd.read_csv(files[i])\n",
    "    player_one= one_player(df_one)\n",
    "    player= np.row_stack((player,player_one))\n",
    "player=np.delete(player, 0, 0)     # delete temporay row"
   ]
  },
  {
   "cell_type": "code",
   "execution_count": 8,
   "metadata": {},
   "outputs": [
    {
     "data": {
      "text/plain": [
       "(532, 70)"
      ]
     },
     "execution_count": 8,
     "metadata": {},
     "output_type": "execute_result"
    }
   ],
   "source": [
    "player.shape"
   ]
  },
  {
   "cell_type": "code",
   "execution_count": 9,
   "metadata": {},
   "outputs": [],
   "source": [
    "X=player\n",
    "X=X.astype(np.float32)"
   ]
  },
  {
   "cell_type": "markdown",
   "metadata": {},
   "source": [
    "發現還有missing value所以作以下處理"
   ]
  },
  {
   "cell_type": "code",
   "execution_count": 10,
   "metadata": {},
   "outputs": [],
   "source": [
    "id=np.argwhere(np.isnan(X))\n",
    "id2=id[:,1] # 有那些feature還有missing value  # of missing:132 \n",
    "id3=id[:,0] # 含missing value的player"
   ]
  },
  {
   "cell_type": "code",
   "execution_count": 11,
   "metadata": {},
   "outputs": [
    {
     "data": {
      "text/plain": [
       "array([ 1,  2,  3,  4,  5,  6,  7,  8,  9, 10, 11, 12, 13, 14, 16, 17, 18,\n",
       "       19, 20, 21, 22, 23, 24, 25, 26, 27, 28, 30, 31, 32, 33, 34, 35, 36,\n",
       "       37, 38, 39, 40, 41, 42, 43, 44, 45, 46, 47, 48, 49, 50, 51, 52, 53,\n",
       "       54, 55, 56, 57, 58, 59, 60, 61, 62, 63, 64, 65, 66, 67, 68, 69],\n",
       "      dtype=int64)"
      ]
     },
     "execution_count": 11,
     "metadata": {},
     "output_type": "execute_result"
    }
   ],
   "source": [
    "np.unique(id2)"
   ]
  },
  {
   "cell_type": "code",
   "execution_count": 12,
   "metadata": {},
   "outputs": [],
   "source": [
    "XX=np.delete(X, id3, 0)   # delete players who have missing values"
   ]
  },
  {
   "cell_type": "code",
   "execution_count": 13,
   "metadata": {},
   "outputs": [
    {
     "data": {
      "text/plain": [
       "(494, 70)"
      ]
     },
     "execution_count": 13,
     "metadata": {},
     "output_type": "execute_result"
    }
   ],
   "source": [
    "XX.shape"
   ]
  },
  {
   "cell_type": "markdown",
   "metadata": {},
   "source": [
    "KMEANS"
   ]
  },
  {
   "cell_type": "code",
   "execution_count": 14,
   "metadata": {},
   "outputs": [],
   "source": [
    "sc = StandardScaler()\n",
    "sc.fit(XX)\n",
    "XX_train_std = sc.transform(XX)\n"
   ]
  },
  {
   "cell_type": "code",
   "execution_count": 15,
   "metadata": {},
   "outputs": [],
   "source": [
    "from sklearn.cluster import KMeans\n"
   ]
  },
  {
   "cell_type": "code",
   "execution_count": 19,
   "metadata": {},
   "outputs": [],
   "source": [
    "kmeans = KMeans(n_clusters=8, random_state=0).fit(XX_train_std)"
   ]
  },
  {
   "cell_type": "code",
   "execution_count": 20,
   "metadata": {},
   "outputs": [
    {
     "data": {
      "text/plain": [
       "array([4, 3, 3, 1, 4, 1, 1, 1, 1, 1, 1, 4, 0, 6, 3, 0, 2, 0, 0, 6, 7, 3,\n",
       "       0, 0, 3, 3, 1, 3, 1, 2, 1, 1, 1, 1, 3, 1, 1, 1, 1, 7, 2, 4, 2, 7,\n",
       "       0, 3, 3, 7, 3, 7, 3, 7, 3, 1, 3, 7, 3, 7, 7, 7, 1, 1, 7, 0, 4, 5,\n",
       "       5, 7, 7, 2, 0, 2, 7, 0, 7, 3, 7, 2, 1, 7, 3, 7, 1, 3, 7, 1, 3, 1,\n",
       "       4, 5, 0, 7, 3, 7, 7, 7, 0, 3, 7, 1, 0, 7, 0, 5, 5, 0, 1, 1, 1, 7,\n",
       "       1, 1, 1, 1, 4, 1, 1, 1, 1, 1, 1, 2, 2, 3, 4, 5, 2, 0, 1, 2, 5, 0,\n",
       "       7, 3, 3, 7, 3, 7, 1, 1, 1, 1, 1, 1, 1, 1, 0, 5, 3, 4, 6, 0, 2, 7,\n",
       "       3, 7, 7, 5, 7, 7, 6, 3, 7, 1, 3, 1, 1, 1, 1, 3, 1, 2, 1, 1, 1, 4,\n",
       "       2, 5, 5, 0, 0, 7, 0, 5, 2, 5, 1, 3, 3, 1, 7, 5, 1, 1, 1, 1, 1, 1,\n",
       "       0, 2, 3, 4, 7, 3, 3, 7, 1, 7, 7, 3, 0, 0, 3, 1, 7, 7, 1, 1, 7, 4,\n",
       "       1, 1, 0, 3, 1, 1, 1, 1, 4, 0, 2, 0, 4, 5, 5, 6, 7, 0, 3, 7, 7, 1,\n",
       "       1, 7, 3, 3, 1, 7, 1, 1, 1, 1, 1, 1, 7, 1, 4, 7, 5, 5, 0, 3, 2, 3,\n",
       "       3, 3, 7, 2, 1, 1, 7, 3, 1, 1, 3, 1, 1, 1, 1, 6, 0, 3, 1, 4, 3, 7,\n",
       "       2, 7, 3, 7, 5, 7, 4, 3, 1, 1, 1, 1, 1, 1, 1, 1, 7, 1, 1, 1, 1, 0,\n",
       "       7, 0, 5, 5, 3, 0, 3, 6, 4, 2, 2, 3, 1, 7, 1, 1, 4, 7, 1, 1, 1, 7,\n",
       "       1, 1, 1, 1, 6, 7, 5, 2, 4, 7, 3, 1, 7, 2, 1, 1, 7, 1, 7, 3, 1, 1,\n",
       "       1, 1, 1, 1, 7, 1, 1, 4, 0, 1, 5, 2, 0, 5, 3, 5, 0, 2, 1, 7, 1, 7,\n",
       "       3, 1, 7, 1, 1, 1, 1, 1, 1, 1, 1, 1, 1, 1, 1, 4, 2, 7, 5, 1, 7, 3,\n",
       "       2, 7, 3, 1, 7, 1, 1, 3, 1, 1, 1, 1, 1, 1, 1, 1, 1, 2, 1, 1, 1, 1,\n",
       "       1, 1, 4, 2, 7, 2, 7, 5, 3, 6, 7, 7, 1, 3, 1, 3, 1, 1, 1, 1, 1, 1,\n",
       "       1, 1, 1, 7, 6, 5, 6, 0, 4, 5, 5, 5, 0, 0, 0, 7, 1, 3, 7, 1, 1, 0,\n",
       "       1, 1, 7, 1, 0, 1, 1, 1, 1, 1, 6, 1, 1, 6, 4, 5, 2, 2, 2, 7, 0, 5,\n",
       "       0, 0, 0, 0, 3, 3, 7, 3, 3, 7])"
      ]
     },
     "execution_count": 20,
     "metadata": {},
     "output_type": "execute_result"
    }
   ],
   "source": [
    "kmeans.labels_"
   ]
  },
  {
   "cell_type": "code",
   "execution_count": null,
   "metadata": {},
   "outputs": [],
   "source": [
    "#kmeans.predict([[0, 0], [12, 3]])\n",
    "#kmeans.cluster_centers_\n"
   ]
  },
  {
   "cell_type": "code",
   "execution_count": 21,
   "metadata": {},
   "outputs": [],
   "source": [
    "from sklearn.mixture import GaussianMixture\n"
   ]
  },
  {
   "cell_type": "code",
   "execution_count": 22,
   "metadata": {},
   "outputs": [],
   "source": [
    "gm = GaussianMixture(n_components=8, random_state=0).fit(XX_train_std)\n"
   ]
  },
  {
   "cell_type": "code",
   "execution_count": 24,
   "metadata": {},
   "outputs": [],
   "source": [
    "#gm.means_\n",
    "#gm.predict([[0, 0], [12, 3]])"
   ]
  },
  {
   "cell_type": "code",
   "execution_count": 25,
   "metadata": {},
   "outputs": [],
   "source": [
    "from sklearn.cluster import DBSCAN\n"
   ]
  },
  {
   "cell_type": "code",
   "execution_count": 26,
   "metadata": {},
   "outputs": [
    {
     "data": {
      "text/plain": [
       "array([ 0,  1, -1,  2,  0,  2,  2,  2,  2,  2,  2, -1, -1, -1, -1, -1, -1,\n",
       "       -1, -1, -1,  2, -1,  3, -1, -1,  4,  2,  5,  2, -1,  2,  2,  2,  2,\n",
       "       -1,  2,  2,  2,  2, -1, -1,  0, -1, -1, -1, -1, -1,  2, -1,  2,  2,\n",
       "        2, -1,  2,  2,  2,  6,  2, -1,  2,  2,  2, -1, -1,  0, -1, -1,  2,\n",
       "       -1, -1,  7,  8,  2, -1,  2, -1,  9,  8,  2, -1,  2, 10,  2, -1, -1,\n",
       "        2, -1, -1,  0, -1, -1,  2, -1, -1, -1,  2, -1,  4,  2,  2, -1,  2,\n",
       "       -1, -1, -1, -1,  2,  2,  2,  2,  2,  2,  2,  2,  0,  2,  2,  2,  2,\n",
       "        2,  2, -1, -1, -1, -1, -1, -1, -1,  2, -1, -1, -1, -1, -1, -1,  2,\n",
       "       11,  2,  2,  2, -1,  2,  2,  2,  2,  2,  7, -1, -1, -1, -1, -1, -1,\n",
       "        2, -1,  2,  2, -1,  2,  2, -1, -1,  2,  2,  2,  2,  2,  2,  2, -1,\n",
       "        2, -1,  2,  2,  2,  0, -1, -1, -1, -1, -1,  2, -1, -1, -1, -1,  2,\n",
       "       -1, -1,  2, -1, -1,  2,  2,  2, -1,  2,  2, -1, -1, -1,  0,  2, -1,\n",
       "       -1,  2,  2, -1,  2, -1, -1,  3, -1,  2,  2, -1,  2,  2,  2,  0,  2,\n",
       "        2, -1, -1,  2,  2, 12,  2,  0, -1, -1, -1,  0, -1, -1, -1, -1, -1,\n",
       "        2,  2, -1,  2,  2,  2, 11,  5,  2,  2,  2,  2,  2,  2,  2,  2, -1,\n",
       "        2,  0, -1, -1, -1, -1, -1, -1, -1, -1,  6,  2, -1,  2,  2, -1,  2,\n",
       "        2,  2,  1,  2,  2,  2,  2, -1, -1, -1,  2,  0,  4,  2, -1,  2, -1,\n",
       "       10, -1,  2,  0,  2,  2,  2,  2,  2,  2, 12,  2,  2, -1,  2,  2,  2,\n",
       "       -1, -1,  2, -1, -1, -1, -1, -1, -1, -1, -1, -1, -1, -1,  2,  2,  2,\n",
       "        2,  0,  2,  2,  2,  2,  2,  2, -1, -1, -1, -1, -1, -1, -1, -1,  2,\n",
       "       -1,  2, -1, -1,  2,  2,  2, -1,  9,  2,  2,  2,  2,  2,  2,  2,  2,\n",
       "        2,  2,  0,  7,  2, -1, -1, -1, -1, -1, -1, -1, -1,  2,  2,  2, -1,\n",
       "        2,  2, -1,  2,  2,  2,  2,  2,  2,  2,  2,  2,  2,  2,  2, -1, -1,\n",
       "       -1, -1,  2,  2, -1, -1, -1, -1,  2,  2,  2,  2,  2,  2,  2,  2,  2,\n",
       "        2,  2,  2,  2,  2, -1,  2,  2,  2,  2,  2,  2,  0, -1, -1, -1,  2,\n",
       "       -1, -1, -1, -1, -1, -1,  2,  2,  6,  2,  2,  2,  2,  2,  2,  2,  2,\n",
       "        2, -1, -1, -1, -1, -1,  0, -1, -1, -1, -1, -1, -1,  2,  2, -1,  2,\n",
       "        2,  2, -1,  2,  2,  2,  2, -1,  2,  2,  2,  2,  2, -1,  2,  2, -1,\n",
       "        0, -1, -1, -1, -1, -1, -1, -1, -1,  3, -1, -1, -1, -1,  2, -1,  2,\n",
       "       -1], dtype=int64)"
      ]
     },
     "execution_count": 26,
     "metadata": {},
     "output_type": "execute_result"
    }
   ],
   "source": [
    "clustering = DBSCAN(eps=3, min_samples=2).fit(XX_train_std)\n",
    "clustering.labels_\n"
   ]
  },
  {
   "cell_type": "code",
   "execution_count": 28,
   "metadata": {},
   "outputs": [],
   "source": [
    "from sklearn.neighbors import KernelDensity\n"
   ]
  },
  {
   "cell_type": "code",
   "execution_count": 29,
   "metadata": {},
   "outputs": [],
   "source": [
    "import numpy as np\n",
    "\n",
    "kde = KernelDensity(kernel='gaussian', bandwidth=0.2).fit(XX_train_std)\n",
    "#kde.score_samples(X)\n"
   ]
  },
  {
   "cell_type": "code",
   "execution_count": null,
   "metadata": {},
   "outputs": [],
   "source": []
  }
 ],
 "metadata": {
  "kernelspec": {
   "display_name": "Python 3",
   "language": "python",
   "name": "python3"
  },
  "language_info": {
   "codemirror_mode": {
    "name": "ipython",
    "version": 3
   },
   "file_extension": ".py",
   "mimetype": "text/x-python",
   "name": "python",
   "nbconvert_exporter": "python",
   "pygments_lexer": "ipython3",
   "version": "3.6.5"
  }
 },
 "nbformat": 4,
 "nbformat_minor": 2
}
