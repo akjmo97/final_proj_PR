{
 "cells": [
  {
   "cell_type": "code",
   "execution_count": 100,
   "metadata": {},
   "outputs": [],
   "source": [
    "%matplotlib inline\n",
    "import os\n",
    "from IPython.display import Image\n",
    "from IPython.display import display\n",
    "import numpy as np\n",
    "import pandas as pd\n",
    "from scipy import interp\n",
    "from sklearn.linear_model import LinearRegression, LogisticRegression\n",
    "from sklearn.metrics import auc, confusion_matrix,  f1_score, precision_score, recall_score, roc_curve\n",
    "from sklearn.model_selection import train_test_split\n",
    "from sklearn.preprocessing import StandardScaler\n",
    "from cycler import cycler\n",
    "import matplotlib\n",
    "matplotlib.rcParams.update({'font.size': 22})\n",
    "plt = matplotlib.pyplot"
   ]
  },
  {
   "cell_type": "markdown",
   "metadata": {},
   "source": [
    "### Create team"
   ]
  },
  {
   "cell_type": "code",
   "execution_count": 70,
   "metadata": {},
   "outputs": [],
   "source": [
    "df_team = pd.read_csv(\"team\\\\team_italy.csv\")\n"
   ]
  },
  {
   "cell_type": "code",
   "execution_count": 71,
   "metadata": {},
   "outputs": [
    {
     "data": {
      "text/html": [
       "<div>\n",
       "<style scoped>\n",
       "    .dataframe tbody tr th:only-of-type {\n",
       "        vertical-align: middle;\n",
       "    }\n",
       "\n",
       "    .dataframe tbody tr th {\n",
       "        vertical-align: top;\n",
       "    }\n",
       "\n",
       "    .dataframe thead th {\n",
       "        text-align: right;\n",
       "    }\n",
       "</style>\n",
       "<table border=\"1\" class=\"dataframe\">\n",
       "  <thead>\n",
       "    <tr style=\"text-align: right;\">\n",
       "      <th></th>\n",
       "      <th>Rk</th>\n",
       "      <th>Squad</th>\n",
       "      <th>MP</th>\n",
       "      <th>W</th>\n",
       "      <th>D</th>\n",
       "      <th>L</th>\n",
       "      <th>GF</th>\n",
       "      <th>GA</th>\n",
       "      <th>GD</th>\n",
       "      <th>Pts</th>\n",
       "      <th>xG</th>\n",
       "      <th>xGA</th>\n",
       "      <th>xGD</th>\n",
       "      <th>xGD/90</th>\n",
       "      <th>Attendance</th>\n",
       "      <th>Top Team Scorer</th>\n",
       "      <th>Goalkeeper</th>\n",
       "      <th>Notes</th>\n",
       "    </tr>\n",
       "  </thead>\n",
       "  <tbody>\n",
       "    <tr>\n",
       "      <th>0</th>\n",
       "      <td>1</td>\n",
       "      <td>Inter</td>\n",
       "      <td>38</td>\n",
       "      <td>28</td>\n",
       "      <td>7</td>\n",
       "      <td>3</td>\n",
       "      <td>89</td>\n",
       "      <td>35</td>\n",
       "      <td>54</td>\n",
       "      <td>91</td>\n",
       "      <td>74.8</td>\n",
       "      <td>38.6</td>\n",
       "      <td>36.2</td>\n",
       "      <td>0.95</td>\n",
       "      <td>158</td>\n",
       "      <td>Romelu Lukaku - 24</td>\n",
       "      <td>Samir Handanović</td>\n",
       "      <td>→ UEFA Champions League via league finish</td>\n",
       "    </tr>\n",
       "    <tr>\n",
       "      <th>1</th>\n",
       "      <td>2</td>\n",
       "      <td>Milan</td>\n",
       "      <td>38</td>\n",
       "      <td>24</td>\n",
       "      <td>7</td>\n",
       "      <td>7</td>\n",
       "      <td>74</td>\n",
       "      <td>41</td>\n",
       "      <td>33</td>\n",
       "      <td>79</td>\n",
       "      <td>71.2</td>\n",
       "      <td>45.7</td>\n",
       "      <td>25.5</td>\n",
       "      <td>0.67</td>\n",
       "      <td>105</td>\n",
       "      <td>Zlatan Ibrahimović - 15</td>\n",
       "      <td>Gianluigi Donnarumma</td>\n",
       "      <td>→ UEFA Champions League via league finish</td>\n",
       "    </tr>\n",
       "    <tr>\n",
       "      <th>2</th>\n",
       "      <td>3</td>\n",
       "      <td>Atalanta</td>\n",
       "      <td>38</td>\n",
       "      <td>23</td>\n",
       "      <td>9</td>\n",
       "      <td>6</td>\n",
       "      <td>90</td>\n",
       "      <td>47</td>\n",
       "      <td>43</td>\n",
       "      <td>78</td>\n",
       "      <td>77.1</td>\n",
       "      <td>42.3</td>\n",
       "      <td>34.8</td>\n",
       "      <td>0.92</td>\n",
       "      <td>105</td>\n",
       "      <td>Luis Muriel - 22</td>\n",
       "      <td>Pierluigi Gollini</td>\n",
       "      <td>→ UEFA Champions League via league finish</td>\n",
       "    </tr>\n",
       "    <tr>\n",
       "      <th>3</th>\n",
       "      <td>4</td>\n",
       "      <td>Juventus</td>\n",
       "      <td>38</td>\n",
       "      <td>23</td>\n",
       "      <td>9</td>\n",
       "      <td>6</td>\n",
       "      <td>77</td>\n",
       "      <td>38</td>\n",
       "      <td>39</td>\n",
       "      <td>78</td>\n",
       "      <td>74.2</td>\n",
       "      <td>38.2</td>\n",
       "      <td>36.0</td>\n",
       "      <td>0.95</td>\n",
       "      <td>105</td>\n",
       "      <td>Cristiano Ronaldo - 29</td>\n",
       "      <td>Wojciech Szczęsny</td>\n",
       "      <td>→ UEFA Champions League via league finish</td>\n",
       "    </tr>\n",
       "    <tr>\n",
       "      <th>4</th>\n",
       "      <td>5</td>\n",
       "      <td>Napoli</td>\n",
       "      <td>38</td>\n",
       "      <td>24</td>\n",
       "      <td>5</td>\n",
       "      <td>9</td>\n",
       "      <td>86</td>\n",
       "      <td>41</td>\n",
       "      <td>45</td>\n",
       "      <td>77</td>\n",
       "      <td>67.7</td>\n",
       "      <td>41.6</td>\n",
       "      <td>26.1</td>\n",
       "      <td>0.69</td>\n",
       "      <td>105</td>\n",
       "      <td>Lorenzo Insigne - 19</td>\n",
       "      <td>Alex Meret</td>\n",
       "      <td>→ UEFA Europa League via league finish</td>\n",
       "    </tr>\n",
       "    <tr>\n",
       "      <th>5</th>\n",
       "      <td>6</td>\n",
       "      <td>Lazio</td>\n",
       "      <td>38</td>\n",
       "      <td>21</td>\n",
       "      <td>5</td>\n",
       "      <td>12</td>\n",
       "      <td>61</td>\n",
       "      <td>55</td>\n",
       "      <td>6</td>\n",
       "      <td>68</td>\n",
       "      <td>59.8</td>\n",
       "      <td>47.8</td>\n",
       "      <td>12.0</td>\n",
       "      <td>0.32</td>\n",
       "      <td>158</td>\n",
       "      <td>Ciro Immobile - 20</td>\n",
       "      <td>Pepe Reina</td>\n",
       "      <td>→ UEFA Europa League via league finish 1</td>\n",
       "    </tr>\n",
       "    <tr>\n",
       "      <th>6</th>\n",
       "      <td>7</td>\n",
       "      <td>Roma</td>\n",
       "      <td>38</td>\n",
       "      <td>18</td>\n",
       "      <td>8</td>\n",
       "      <td>12</td>\n",
       "      <td>68</td>\n",
       "      <td>58</td>\n",
       "      <td>10</td>\n",
       "      <td>62</td>\n",
       "      <td>68.9</td>\n",
       "      <td>51.4</td>\n",
       "      <td>17.5</td>\n",
       "      <td>0.46</td>\n",
       "      <td>105</td>\n",
       "      <td>Henrikh Mkhitaryan - 13</td>\n",
       "      <td>Pau López</td>\n",
       "      <td>→ UEFA Europa Conference League via league finish</td>\n",
       "    </tr>\n",
       "    <tr>\n",
       "      <th>7</th>\n",
       "      <td>8</td>\n",
       "      <td>Sassuolo</td>\n",
       "      <td>38</td>\n",
       "      <td>17</td>\n",
       "      <td>11</td>\n",
       "      <td>10</td>\n",
       "      <td>64</td>\n",
       "      <td>56</td>\n",
       "      <td>8</td>\n",
       "      <td>62</td>\n",
       "      <td>59.2</td>\n",
       "      <td>54.9</td>\n",
       "      <td>4.3</td>\n",
       "      <td>0.11</td>\n",
       "      <td>134</td>\n",
       "      <td>Domenico Berardi - 17</td>\n",
       "      <td>Andrea Consigli</td>\n",
       "      <td>NaN</td>\n",
       "    </tr>\n",
       "    <tr>\n",
       "      <th>8</th>\n",
       "      <td>9</td>\n",
       "      <td>Sampdoria</td>\n",
       "      <td>38</td>\n",
       "      <td>15</td>\n",
       "      <td>7</td>\n",
       "      <td>16</td>\n",
       "      <td>52</td>\n",
       "      <td>54</td>\n",
       "      <td>-2</td>\n",
       "      <td>52</td>\n",
       "      <td>46.2</td>\n",
       "      <td>56.9</td>\n",
       "      <td>-10.7</td>\n",
       "      <td>-0.28</td>\n",
       "      <td>105</td>\n",
       "      <td>Fabio Quagliarella - 13</td>\n",
       "      <td>Emil Audero</td>\n",
       "      <td>NaN</td>\n",
       "    </tr>\n",
       "    <tr>\n",
       "      <th>9</th>\n",
       "      <td>10</td>\n",
       "      <td>Hellas Verona</td>\n",
       "      <td>38</td>\n",
       "      <td>11</td>\n",
       "      <td>12</td>\n",
       "      <td>15</td>\n",
       "      <td>46</td>\n",
       "      <td>48</td>\n",
       "      <td>-2</td>\n",
       "      <td>45</td>\n",
       "      <td>43.5</td>\n",
       "      <td>50.3</td>\n",
       "      <td>-6.8</td>\n",
       "      <td>-0.18</td>\n",
       "      <td>611</td>\n",
       "      <td>Antonín Barák - 7</td>\n",
       "      <td>Marco Silvestri</td>\n",
       "      <td>NaN</td>\n",
       "    </tr>\n",
       "    <tr>\n",
       "      <th>10</th>\n",
       "      <td>11</td>\n",
       "      <td>Genoa</td>\n",
       "      <td>38</td>\n",
       "      <td>10</td>\n",
       "      <td>12</td>\n",
       "      <td>16</td>\n",
       "      <td>47</td>\n",
       "      <td>58</td>\n",
       "      <td>-11</td>\n",
       "      <td>42</td>\n",
       "      <td>37.8</td>\n",
       "      <td>54.5</td>\n",
       "      <td>-16.8</td>\n",
       "      <td>-0.44</td>\n",
       "      <td>53</td>\n",
       "      <td>Mattia Destro - 11</td>\n",
       "      <td>Mattia Perin</td>\n",
       "      <td>NaN</td>\n",
       "    </tr>\n",
       "    <tr>\n",
       "      <th>11</th>\n",
       "      <td>12</td>\n",
       "      <td>Bologna</td>\n",
       "      <td>38</td>\n",
       "      <td>10</td>\n",
       "      <td>11</td>\n",
       "      <td>17</td>\n",
       "      <td>51</td>\n",
       "      <td>65</td>\n",
       "      <td>-14</td>\n",
       "      <td>41</td>\n",
       "      <td>53.4</td>\n",
       "      <td>64.7</td>\n",
       "      <td>-11.2</td>\n",
       "      <td>-0.30</td>\n",
       "      <td>105</td>\n",
       "      <td>Roberto Soriano - 9</td>\n",
       "      <td>Łukasz Skorupski</td>\n",
       "      <td>NaN</td>\n",
       "    </tr>\n",
       "    <tr>\n",
       "      <th>12</th>\n",
       "      <td>13</td>\n",
       "      <td>Fiorentina</td>\n",
       "      <td>38</td>\n",
       "      <td>9</td>\n",
       "      <td>13</td>\n",
       "      <td>16</td>\n",
       "      <td>47</td>\n",
       "      <td>59</td>\n",
       "      <td>-12</td>\n",
       "      <td>40</td>\n",
       "      <td>45.2</td>\n",
       "      <td>55.1</td>\n",
       "      <td>-9.9</td>\n",
       "      <td>-0.26</td>\n",
       "      <td>105</td>\n",
       "      <td>Dušan Vlahović - 21</td>\n",
       "      <td>Bartłomiej Drągowski</td>\n",
       "      <td>NaN</td>\n",
       "    </tr>\n",
       "    <tr>\n",
       "      <th>13</th>\n",
       "      <td>14</td>\n",
       "      <td>Udinese</td>\n",
       "      <td>38</td>\n",
       "      <td>10</td>\n",
       "      <td>10</td>\n",
       "      <td>18</td>\n",
       "      <td>42</td>\n",
       "      <td>58</td>\n",
       "      <td>-16</td>\n",
       "      <td>40</td>\n",
       "      <td>42.9</td>\n",
       "      <td>52.1</td>\n",
       "      <td>-9.2</td>\n",
       "      <td>-0.24</td>\n",
       "      <td>158</td>\n",
       "      <td>Rodrigo De Paul - 9</td>\n",
       "      <td>Juan Musso</td>\n",
       "      <td>NaN</td>\n",
       "    </tr>\n",
       "    <tr>\n",
       "      <th>14</th>\n",
       "      <td>15</td>\n",
       "      <td>Spezia</td>\n",
       "      <td>38</td>\n",
       "      <td>9</td>\n",
       "      <td>12</td>\n",
       "      <td>17</td>\n",
       "      <td>52</td>\n",
       "      <td>72</td>\n",
       "      <td>-20</td>\n",
       "      <td>39</td>\n",
       "      <td>46.7</td>\n",
       "      <td>69.3</td>\n",
       "      <td>-22.6</td>\n",
       "      <td>-0.59</td>\n",
       "      <td>105</td>\n",
       "      <td>M'Bala Nzola - 11</td>\n",
       "      <td>Ivan Provedel</td>\n",
       "      <td>NaN</td>\n",
       "    </tr>\n",
       "    <tr>\n",
       "      <th>15</th>\n",
       "      <td>16</td>\n",
       "      <td>Cagliari</td>\n",
       "      <td>38</td>\n",
       "      <td>9</td>\n",
       "      <td>10</td>\n",
       "      <td>19</td>\n",
       "      <td>43</td>\n",
       "      <td>59</td>\n",
       "      <td>-16</td>\n",
       "      <td>37</td>\n",
       "      <td>45.5</td>\n",
       "      <td>63.1</td>\n",
       "      <td>-17.6</td>\n",
       "      <td>-0.46</td>\n",
       "      <td>105</td>\n",
       "      <td>João Pedro - 16</td>\n",
       "      <td>Alessio Cragno</td>\n",
       "      <td>NaN</td>\n",
       "    </tr>\n",
       "    <tr>\n",
       "      <th>16</th>\n",
       "      <td>17</td>\n",
       "      <td>Torino</td>\n",
       "      <td>38</td>\n",
       "      <td>7</td>\n",
       "      <td>16</td>\n",
       "      <td>15</td>\n",
       "      <td>50</td>\n",
       "      <td>69</td>\n",
       "      <td>-19</td>\n",
       "      <td>37</td>\n",
       "      <td>50.2</td>\n",
       "      <td>58.8</td>\n",
       "      <td>-8.6</td>\n",
       "      <td>-0.23</td>\n",
       "      <td>105</td>\n",
       "      <td>Andrea Belotti - 13</td>\n",
       "      <td>Salvatore Sirigu</td>\n",
       "      <td>NaN</td>\n",
       "    </tr>\n",
       "    <tr>\n",
       "      <th>17</th>\n",
       "      <td>18</td>\n",
       "      <td>Benevento</td>\n",
       "      <td>38</td>\n",
       "      <td>7</td>\n",
       "      <td>12</td>\n",
       "      <td>19</td>\n",
       "      <td>40</td>\n",
       "      <td>75</td>\n",
       "      <td>-35</td>\n",
       "      <td>33</td>\n",
       "      <td>41.6</td>\n",
       "      <td>66.1</td>\n",
       "      <td>-24.5</td>\n",
       "      <td>-0.64</td>\n",
       "      <td>158</td>\n",
       "      <td>Gianluca Lapadula - 8</td>\n",
       "      <td>Lorenzo Montipò</td>\n",
       "      <td>Relegated</td>\n",
       "    </tr>\n",
       "    <tr>\n",
       "      <th>18</th>\n",
       "      <td>19</td>\n",
       "      <td>Crotone</td>\n",
       "      <td>38</td>\n",
       "      <td>6</td>\n",
       "      <td>5</td>\n",
       "      <td>27</td>\n",
       "      <td>45</td>\n",
       "      <td>92</td>\n",
       "      <td>-47</td>\n",
       "      <td>23</td>\n",
       "      <td>38.5</td>\n",
       "      <td>71.6</td>\n",
       "      <td>-33.1</td>\n",
       "      <td>-0.87</td>\n",
       "      <td>53</td>\n",
       "      <td>Simeon Nwankwo - 20</td>\n",
       "      <td>Alex Cordaz</td>\n",
       "      <td>Relegated</td>\n",
       "    </tr>\n",
       "    <tr>\n",
       "      <th>19</th>\n",
       "      <td>20</td>\n",
       "      <td>Parma</td>\n",
       "      <td>38</td>\n",
       "      <td>3</td>\n",
       "      <td>11</td>\n",
       "      <td>24</td>\n",
       "      <td>39</td>\n",
       "      <td>83</td>\n",
       "      <td>-44</td>\n",
       "      <td>20</td>\n",
       "      <td>40.0</td>\n",
       "      <td>61.4</td>\n",
       "      <td>-21.4</td>\n",
       "      <td>-0.56</td>\n",
       "      <td>158</td>\n",
       "      <td>Juraj Kucka, Hernani - 7</td>\n",
       "      <td>Luigi Sepe</td>\n",
       "      <td>Relegated</td>\n",
       "    </tr>\n",
       "  </tbody>\n",
       "</table>\n",
       "</div>"
      ],
      "text/plain": [
       "    Rk          Squad  MP   W   D   L  GF  GA  GD  Pts    xG   xGA   xGD  \\\n",
       "0    1          Inter  38  28   7   3  89  35  54   91  74.8  38.6  36.2   \n",
       "1    2          Milan  38  24   7   7  74  41  33   79  71.2  45.7  25.5   \n",
       "2    3       Atalanta  38  23   9   6  90  47  43   78  77.1  42.3  34.8   \n",
       "3    4       Juventus  38  23   9   6  77  38  39   78  74.2  38.2  36.0   \n",
       "4    5         Napoli  38  24   5   9  86  41  45   77  67.7  41.6  26.1   \n",
       "5    6          Lazio  38  21   5  12  61  55   6   68  59.8  47.8  12.0   \n",
       "6    7           Roma  38  18   8  12  68  58  10   62  68.9  51.4  17.5   \n",
       "7    8       Sassuolo  38  17  11  10  64  56   8   62  59.2  54.9   4.3   \n",
       "8    9      Sampdoria  38  15   7  16  52  54  -2   52  46.2  56.9 -10.7   \n",
       "9   10  Hellas Verona  38  11  12  15  46  48  -2   45  43.5  50.3  -6.8   \n",
       "10  11          Genoa  38  10  12  16  47  58 -11   42  37.8  54.5 -16.8   \n",
       "11  12        Bologna  38  10  11  17  51  65 -14   41  53.4  64.7 -11.2   \n",
       "12  13     Fiorentina  38   9  13  16  47  59 -12   40  45.2  55.1  -9.9   \n",
       "13  14        Udinese  38  10  10  18  42  58 -16   40  42.9  52.1  -9.2   \n",
       "14  15         Spezia  38   9  12  17  52  72 -20   39  46.7  69.3 -22.6   \n",
       "15  16       Cagliari  38   9  10  19  43  59 -16   37  45.5  63.1 -17.6   \n",
       "16  17         Torino  38   7  16  15  50  69 -19   37  50.2  58.8  -8.6   \n",
       "17  18      Benevento  38   7  12  19  40  75 -35   33  41.6  66.1 -24.5   \n",
       "18  19        Crotone  38   6   5  27  45  92 -47   23  38.5  71.6 -33.1   \n",
       "19  20          Parma  38   3  11  24  39  83 -44   20  40.0  61.4 -21.4   \n",
       "\n",
       "    xGD/90  Attendance           Top Team Scorer            Goalkeeper  \\\n",
       "0     0.95         158        Romelu Lukaku - 24      Samir Handanović   \n",
       "1     0.67         105   Zlatan Ibrahimović - 15  Gianluigi Donnarumma   \n",
       "2     0.92         105          Luis Muriel - 22     Pierluigi Gollini   \n",
       "3     0.95         105    Cristiano Ronaldo - 29     Wojciech Szczęsny   \n",
       "4     0.69         105      Lorenzo Insigne - 19            Alex Meret   \n",
       "5     0.32         158        Ciro Immobile - 20            Pepe Reina   \n",
       "6     0.46         105   Henrikh Mkhitaryan - 13             Pau López   \n",
       "7     0.11         134     Domenico Berardi - 17       Andrea Consigli   \n",
       "8    -0.28         105   Fabio Quagliarella - 13           Emil Audero   \n",
       "9    -0.18         611         Antonín Barák - 7       Marco Silvestri   \n",
       "10   -0.44          53        Mattia Destro - 11          Mattia Perin   \n",
       "11   -0.30         105       Roberto Soriano - 9      Łukasz Skorupski   \n",
       "12   -0.26         105       Dušan Vlahović - 21  Bartłomiej Drągowski   \n",
       "13   -0.24         158       Rodrigo De Paul - 9            Juan Musso   \n",
       "14   -0.59         105         M'Bala Nzola - 11         Ivan Provedel   \n",
       "15   -0.46         105           João Pedro - 16        Alessio Cragno   \n",
       "16   -0.23         105       Andrea Belotti - 13      Salvatore Sirigu   \n",
       "17   -0.64         158     Gianluca Lapadula - 8       Lorenzo Montipò   \n",
       "18   -0.87          53       Simeon Nwankwo - 20           Alex Cordaz   \n",
       "19   -0.56         158  Juraj Kucka, Hernani - 7            Luigi Sepe   \n",
       "\n",
       "                                                Notes  \n",
       "0           → UEFA Champions League via league finish  \n",
       "1           → UEFA Champions League via league finish  \n",
       "2           → UEFA Champions League via league finish  \n",
       "3           → UEFA Champions League via league finish  \n",
       "4              → UEFA Europa League via league finish  \n",
       "5            → UEFA Europa League via league finish 1  \n",
       "6   → UEFA Europa Conference League via league finish  \n",
       "7                                                 NaN  \n",
       "8                                                 NaN  \n",
       "9                                                 NaN  \n",
       "10                                                NaN  \n",
       "11                                                NaN  \n",
       "12                                                NaN  \n",
       "13                                                NaN  \n",
       "14                                                NaN  \n",
       "15                                                NaN  \n",
       "16                                                NaN  \n",
       "17                                          Relegated  \n",
       "18                                          Relegated  \n",
       "19                                          Relegated  "
      ]
     },
     "execution_count": 71,
     "metadata": {},
     "output_type": "execute_result"
    }
   ],
   "source": [
    "df_team"
   ]
  },
  {
   "cell_type": "code",
   "execution_count": 6,
   "metadata": {},
   "outputs": [
    {
     "data": {
      "text/plain": [
       "array(['Manchester City', 'Manchester Utd', 'Liverpool', 'Chelsea',\n",
       "       'Leicester City', 'West Ham', 'Tottenham', 'Arsenal',\n",
       "       'Leeds United', 'Everton', 'Aston Villa', 'Newcastle Utd',\n",
       "       'Wolves', 'Crystal Palace', 'Southampton', 'Brighton', 'Burnley',\n",
       "       'Fulham', 'West Brom', 'Sheffield Utd'], dtype=object)"
      ]
     },
     "execution_count": 6,
     "metadata": {},
     "output_type": "execute_result"
    }
   ],
   "source": [
    "df_team.values[:,1]"
   ]
  },
  {
   "cell_type": "markdown",
   "metadata": {},
   "source": [
    "### Create player dataset"
   ]
  },
  {
   "cell_type": "code",
   "execution_count": 9,
   "metadata": {},
   "outputs": [],
   "source": [
    "from glob import glob\n",
    "files = glob(\"player_data_seriea/*.csv\")"
   ]
  },
  {
   "cell_type": "code",
   "execution_count": 11,
   "metadata": {},
   "outputs": [
    {
     "data": {
      "text/html": [
       "<div>\n",
       "<style scoped>\n",
       "    .dataframe tbody tr th:only-of-type {\n",
       "        vertical-align: middle;\n",
       "    }\n",
       "\n",
       "    .dataframe tbody tr th {\n",
       "        vertical-align: top;\n",
       "    }\n",
       "\n",
       "    .dataframe thead th {\n",
       "        text-align: right;\n",
       "    }\n",
       "</style>\n",
       "<table border=\"1\" class=\"dataframe\">\n",
       "  <thead>\n",
       "    <tr style=\"text-align: right;\">\n",
       "      <th></th>\n",
       "      <th>Unnamed: 0</th>\n",
       "      <th>Age</th>\n",
       "      <th>Squad</th>\n",
       "      <th>Country</th>\n",
       "      <th>Comp</th>\n",
       "      <th>LgRank</th>\n",
       "      <th>90s</th>\n",
       "      <th>Cmp</th>\n",
       "      <th>Att</th>\n",
       "      <th>Cmp%</th>\n",
       "      <th>...</th>\n",
       "      <th>PrgDist.1</th>\n",
       "      <th>Prog.1</th>\n",
       "      <th>1/3.1</th>\n",
       "      <th>CPA</th>\n",
       "      <th>Mis</th>\n",
       "      <th>Dis</th>\n",
       "      <th>Targ</th>\n",
       "      <th>Rec</th>\n",
       "      <th>Rec%</th>\n",
       "      <th>Prog.2</th>\n",
       "    </tr>\n",
       "  </thead>\n",
       "  <tbody>\n",
       "    <tr>\n",
       "      <th>0</th>\n",
       "      <td>0</td>\n",
       "      <td>23</td>\n",
       "      <td>Inter</td>\n",
       "      <td>it ITA</td>\n",
       "      <td>1. Serie A</td>\n",
       "      <td>2nd</td>\n",
       "      <td>8.0</td>\n",
       "      <td>422</td>\n",
       "      <td>515</td>\n",
       "      <td>81.9</td>\n",
       "      <td>...</td>\n",
       "      <td>1089</td>\n",
       "      <td>60</td>\n",
       "      <td>15</td>\n",
       "      <td>5</td>\n",
       "      <td>12</td>\n",
       "      <td>14</td>\n",
       "      <td>514</td>\n",
       "      <td>449</td>\n",
       "      <td>87.4</td>\n",
       "      <td>71</td>\n",
       "    </tr>\n",
       "    <tr>\n",
       "      <th>1</th>\n",
       "      <td>1</td>\n",
       "      <td>24</td>\n",
       "      <td>Inter</td>\n",
       "      <td>it ITA</td>\n",
       "      <td>1. Serie A</td>\n",
       "      <td>1st</td>\n",
       "      <td>6.7</td>\n",
       "      <td>351</td>\n",
       "      <td>426</td>\n",
       "      <td>82.4</td>\n",
       "      <td>...</td>\n",
       "      <td>875</td>\n",
       "      <td>37</td>\n",
       "      <td>13</td>\n",
       "      <td>4</td>\n",
       "      <td>14</td>\n",
       "      <td>9</td>\n",
       "      <td>419</td>\n",
       "      <td>378</td>\n",
       "      <td>90.2</td>\n",
       "      <td>38</td>\n",
       "    </tr>\n",
       "  </tbody>\n",
       "</table>\n",
       "<p>2 rows × 77 columns</p>\n",
       "</div>"
      ],
      "text/plain": [
       "   Unnamed: 0  Age  Squad Country        Comp LgRank  90s  Cmp  Att  Cmp%  \\\n",
       "0           0   23  Inter  it ITA  1. Serie A    2nd  8.0  422  515  81.9   \n",
       "1           1   24  Inter  it ITA  1. Serie A    1st  6.7  351  426  82.4   \n",
       "\n",
       "    ...    PrgDist.1  Prog.1  1/3.1  CPA  Mis  Dis  Targ  Rec  Rec%  Prog.2  \n",
       "0   ...         1089      60     15    5   12   14   514  449  87.4      71  \n",
       "1   ...          875      37     13    4   14    9   419  378  90.2      38  \n",
       "\n",
       "[2 rows x 77 columns]"
      ]
     },
     "execution_count": 11,
     "metadata": {},
     "output_type": "execute_result"
    }
   ],
   "source": [
    "test=pd.read_csv(files[100])\n",
    "pd.read_csv(files[100])\n"
   ]
  },
  {
   "cell_type": "code",
   "execution_count": 12,
   "metadata": {},
   "outputs": [
    {
     "data": {
      "text/plain": [
       "array([8.0, 6.7], dtype=object)"
      ]
     },
     "execution_count": 12,
     "metadata": {},
     "output_type": "execute_result"
    }
   ],
   "source": [
    "test.values[:,6]\n"
   ]
  },
  {
   "cell_type": "code",
   "execution_count": 16,
   "metadata": {},
   "outputs": [
    {
     "data": {
      "text/plain": [
       "619"
      ]
     },
     "execution_count": 16,
     "metadata": {},
     "output_type": "execute_result"
    }
   ],
   "source": [
    "player_n=len(files)\n",
    "player_n"
   ]
  },
  {
   "cell_type": "code",
   "execution_count": 36,
   "metadata": {},
   "outputs": [],
   "source": [
    "def one_player(df_one):\n",
    "    df_num=df_one.shape[0]\n",
    "    one_player=np.zeros((1, 71))\n",
    "    for i in range(0,df_num):\n",
    "    #print(i)\n",
    "        if df_one.values[i,4]=='1. Serie A' :  # only collect the Premier Leage data\n",
    "            dfxx= df_one.values[i,6:]           # collect the data after the column \"LgRank\"\n",
    "            one_player=np.row_stack((one_player,dfxx))\n",
    "        if i==df_num-1:\n",
    "            player_team_one= df_one.values[i,2]\n",
    "    one_player=np.delete(one_player, 0, 0)     # delete temporay row\n",
    "    #one_player=np.delete(one_player, 71-15, 1) # move the column have NAN\n",
    "    one_player=np.mean(one_player,axis=0)      # average the data for different seasons\n",
    "    return one_player,player_team_one"
   ]
  },
  {
   "cell_type": "code",
   "execution_count": 37,
   "metadata": {},
   "outputs": [],
   "source": [
    "player= np.zeros((1, 71))  #70 becuase that i delelete one NAN column\n",
    "for i in range(0,player_n):   # 英超,532 players\n",
    "    df_one = pd.read_csv(files[i])\n",
    "    player_one,_= one_player(df_one)\n",
    "    player= np.row_stack((player,player_one))\n",
    "player=np.delete(player, 0, 0)     # delete temporay row"
   ]
  },
  {
   "cell_type": "code",
   "execution_count": 38,
   "metadata": {},
   "outputs": [
    {
     "data": {
      "text/plain": [
       "(619, 71)"
      ]
     },
     "execution_count": 38,
     "metadata": {},
     "output_type": "execute_result"
    }
   ],
   "source": [
    "player.shape"
   ]
  },
  {
   "cell_type": "code",
   "execution_count": 39,
   "metadata": {},
   "outputs": [],
   "source": [
    "player_team= []  #70 becuase that i delelete one NAN column\n",
    "for i in range(0,player_n):   # 英超,532 players\n",
    "    df_one = pd.read_csv(files[i])\n",
    "    _,player_team_one= one_player(df_one)\n",
    "    player_team.append(player_team_one)\n"
   ]
  },
  {
   "cell_type": "code",
   "execution_count": 40,
   "metadata": {},
   "outputs": [
    {
     "data": {
      "text/plain": [
       "619"
      ]
     },
     "execution_count": 40,
     "metadata": {},
     "output_type": "execute_result"
    }
   ],
   "source": [
    "len(player_team)"
   ]
  },
  {
   "cell_type": "code",
   "execution_count": 44,
   "metadata": {},
   "outputs": [
    {
     "data": {
      "text/plain": [
       "array([[35.5, 952.0, 1102.0, ..., 627.0, 99.7, 0.0],\n",
       "       [19.9, 598.0, 827.0, ..., 623.0, 82.4, 75.0],\n",
       "       [12.9, 1013.0, 1073.0, ..., 948.0, 96.3, 19.0],\n",
       "       ...,\n",
       "       [18.9, 667.0, 784.0, ..., 707.0, 79.0, 135.0],\n",
       "       [8.8, 550.5, 599.5, ..., 506.5, 98.15, 3.5],\n",
       "       [18.25, 926.5, 1116.5, ..., 1110.0, 86.05, 178.0]], dtype=object)"
      ]
     },
     "execution_count": 44,
     "metadata": {},
     "output_type": "execute_result"
    }
   ],
   "source": [
    "player"
   ]
  },
  {
   "cell_type": "code",
   "execution_count": 45,
   "metadata": {},
   "outputs": [],
   "source": [
    "X=player\n",
    "X=X.astype(np.float32)"
   ]
  },
  {
   "cell_type": "code",
   "execution_count": 51,
   "metadata": {},
   "outputs": [
    {
     "data": {
      "text/plain": [
       "(619, 71)"
      ]
     },
     "execution_count": 51,
     "metadata": {},
     "output_type": "execute_result"
    }
   ],
   "source": [
    "X.shape"
   ]
  },
  {
   "cell_type": "code",
   "execution_count": 48,
   "metadata": {},
   "outputs": [],
   "source": [
    "id=np.argwhere(np.isnan(X)) #尋找缺值的地方\n",
    "id2=id[:,1] # 有那些feature還有missing value  # of missing:132 \n",
    "id3=id[:,0] # 含missing value的player"
   ]
  },
  {
   "cell_type": "code",
   "execution_count": 52,
   "metadata": {},
   "outputs": [
    {
     "data": {
      "text/plain": [
       "(234, 71)"
      ]
     },
     "execution_count": 52,
     "metadata": {},
     "output_type": "execute_result"
    }
   ],
   "source": [
    "X[id3].shape"
   ]
  },
  {
   "cell_type": "code",
   "execution_count": 53,
   "metadata": {},
   "outputs": [
    {
     "data": {
      "text/plain": [
       "array([ 3,  8, 11, 14, 56, 69], dtype=int64)"
      ]
     },
     "execution_count": 53,
     "metadata": {},
     "output_type": "execute_result"
    }
   ],
   "source": [
    "np.unique(id2)"
   ]
  },
  {
   "cell_type": "code",
   "execution_count": 54,
   "metadata": {},
   "outputs": [],
   "source": [
    "X_del_miss=np.delete(X, id3, 0)   # delete players who have missing values #備用資料集"
   ]
  },
  {
   "cell_type": "code",
   "execution_count": 55,
   "metadata": {},
   "outputs": [
    {
     "data": {
      "text/plain": [
       "(458, 71)"
      ]
     },
     "execution_count": 55,
     "metadata": {},
     "output_type": "execute_result"
    }
   ],
   "source": [
    "X_del_miss.shape"
   ]
  },
  {
   "cell_type": "markdown",
   "metadata": {},
   "source": [
    "#### 補值處理  by KNN"
   ]
  },
  {
   "cell_type": "code",
   "execution_count": 65,
   "metadata": {},
   "outputs": [],
   "source": [
    "from sklearn.impute import KNNImputer\n",
    "#X = [[1, 2, np.nan], [3, 4, 3], [np.nan, 6, 5], [8, 8, 7]]\n",
    "imputer = KNNImputer(n_neighbors=11)"
   ]
  },
  {
   "cell_type": "code",
   "execution_count": 66,
   "metadata": {},
   "outputs": [],
   "source": [
    "X_add_miss= imputer.fit_transform(X)\n"
   ]
  },
  {
   "cell_type": "code",
   "execution_count": 67,
   "metadata": {},
   "outputs": [
    {
     "data": {
      "text/plain": [
       "(619, 71)"
      ]
     },
     "execution_count": 67,
     "metadata": {},
     "output_type": "execute_result"
    }
   ],
   "source": [
    "X_add_miss.shape"
   ]
  },
  {
   "cell_type": "code",
   "execution_count": 68,
   "metadata": {},
   "outputs": [
    {
     "data": {
      "text/plain": [
       "(71,)"
      ]
     },
     "execution_count": 68,
     "metadata": {},
     "output_type": "execute_result"
    }
   ],
   "source": [
    "X_add_miss[0].shape"
   ]
  },
  {
   "cell_type": "code",
   "execution_count": 60,
   "metadata": {},
   "outputs": [
    {
     "data": {
      "text/plain": [
       "array([], shape=(0, 2), dtype=int64)"
      ]
     },
     "execution_count": 60,
     "metadata": {},
     "output_type": "execute_result"
    }
   ],
   "source": [
    "id_test=np.argwhere(np.isnan(X_add_miss))\n",
    "id_test"
   ]
  },
  {
   "cell_type": "markdown",
   "metadata": {},
   "source": [
    "### Create club dataset"
   ]
  },
  {
   "cell_type": "code",
   "execution_count": 61,
   "metadata": {},
   "outputs": [],
   "source": [
    "def get_index(lst=None, item=''):\n",
    "    return [index for (index,value) in enumerate(lst) if value == item]"
   ]
  },
  {
   "cell_type": "code",
   "execution_count": 62,
   "metadata": {},
   "outputs": [],
   "source": [
    "id=get_index(player_team, 'Chelsea')"
   ]
  },
  {
   "cell_type": "code",
   "execution_count": 63,
   "metadata": {},
   "outputs": [
    {
     "data": {
      "text/plain": [
       "[]"
      ]
     },
     "execution_count": 63,
     "metadata": {},
     "output_type": "execute_result"
    }
   ],
   "source": [
    "id"
   ]
  },
  {
   "cell_type": "code",
   "execution_count": 64,
   "metadata": {},
   "outputs": [
    {
     "data": {
      "text/plain": [
       "619"
      ]
     },
     "execution_count": 64,
     "metadata": {},
     "output_type": "execute_result"
    }
   ],
   "source": [
    "len(player_team)"
   ]
  },
  {
   "cell_type": "code",
   "execution_count": 74,
   "metadata": {},
   "outputs": [],
   "source": [
    "club_feature = np.zeros((1, 781))\n",
    "for i in range(0,20):\n",
    "    team_name=df_team.values[:,1][i]\n",
    "    id_club = get_index(player_team, team_name) # 把屬於這個球隊的球員id找出來 # player_team是所有球員的對應球隊列表\n",
    "    num = len(id_club)\n",
    "    player_feature=np.zeros((1, 71))\n",
    "    player_time_arr=np.zeros((num))\n",
    "    for j in range(0,num):\n",
    "        player_time_arr[j]=X_add_miss[id_club[j]][0]#\n",
    "    idd =np.argsort([player_time_arr])#由小到大\n",
    "    iddr = idd[::-1]\n",
    "    ids = iddr[0][0:11] # select most important 11 players   #[0]\n",
    "    nums = len(ids)\n",
    "    for ii in range(0,nums):\n",
    "        tmp=X_add_miss[ids[ii]]##<-------------------要改的是idclub\n",
    "        tmp=tmp.reshape((1, 71))\n",
    "        player_feature= np.column_stack((player_feature,tmp))\n",
    "    #player_featurex= player_feature test\n",
    "    tmpp=[i for i in range(71)]\n",
    "    player_feature = np.delete(player_feature, tmpp)      # delete temporay row\n",
    "    num_fe = len(player_feature)\n",
    "    player_feature = player_feature.reshape((1, num_fe))\n",
    "    if player_feature.shape[1]==781:\n",
    "        #print(\"exe\")\n",
    "        club_feature= np.row_stack((club_feature,player_feature))\n",
    "club_feature=np.delete(club_feature, 0, 0)     # delete temporay row\n",
    "\n",
    "    "
   ]
  },
  {
   "cell_type": "markdown",
   "metadata": {},
   "source": [
    "d = np.array([4,3,2,1])\n",
    "d = np.pad(d,(0,5),'constant',constant_values=(0,0))\n",
    "print(d)"
   ]
  },
  {
   "cell_type": "code",
   "execution_count": 75,
   "metadata": {},
   "outputs": [
    {
     "data": {
      "text/plain": [
       "(20, 781)"
      ]
     },
     "execution_count": 75,
     "metadata": {},
     "output_type": "execute_result"
    }
   ],
   "source": [
    "club_feature.shape"
   ]
  },
  {
   "cell_type": "code",
   "execution_count": 78,
   "metadata": {},
   "outputs": [],
   "source": [
    "np.save(\"regression_X_italy.npy\",club_feature)\n"
   ]
  },
  {
   "cell_type": "code",
   "execution_count": 94,
   "metadata": {},
   "outputs": [
    {
     "data": {
      "text/plain": [
       "array(['Inter', 'Milan', 'Atalanta', 'Juventus', 'Napoli', 'Lazio',\n",
       "       'Roma', 'Sassuolo', 'Sampdoria', 'Hellas Verona', 'Genoa',\n",
       "       'Bologna', 'Fiorentina', 'Udinese', 'Spezia', 'Cagliari', 'Torino',\n",
       "       'Benevento', 'Crotone', 'Parma'], dtype=object)"
      ]
     },
     "execution_count": 94,
     "metadata": {},
     "output_type": "execute_result"
    }
   ],
   "source": [
    "df_team.values[:,1]"
   ]
  },
  {
   "cell_type": "markdown",
   "metadata": {},
   "source": [
    "### 跳掉leeds united ,手動輸入控球率"
   ]
  },
  {
   "cell_type": "code",
   "execution_count": 95,
   "metadata": {},
   "outputs": [],
   "source": [
    "Y=np.array([52.4,51.9,54.9,57.1,55.2,53.1,52.5,60.8,45.1,49.8,44.7,50.9,46.2,46.1,52.2,44.6,47.2,42.3,46.4,47.7])"
   ]
  },
  {
   "cell_type": "code",
   "execution_count": 96,
   "metadata": {},
   "outputs": [
    {
     "data": {
      "text/plain": [
       "(20,)"
      ]
     },
     "execution_count": 96,
     "metadata": {},
     "output_type": "execute_result"
    }
   ],
   "source": [
    "Y.shape"
   ]
  },
  {
   "cell_type": "code",
   "execution_count": 98,
   "metadata": {},
   "outputs": [],
   "source": [
    "Y=Y.reshape((20, 1))\n"
   ]
  },
  {
   "cell_type": "code",
   "execution_count": 99,
   "metadata": {},
   "outputs": [],
   "source": [
    "np.save(\"regression_Y_italy.npy\",Y)\n"
   ]
  },
  {
   "cell_type": "code",
   "execution_count": null,
   "metadata": {},
   "outputs": [],
   "source": []
  }
 ],
 "metadata": {
  "kernelspec": {
   "display_name": "Python 3",
   "language": "python",
   "name": "python3"
  },
  "language_info": {
   "codemirror_mode": {
    "name": "ipython",
    "version": 3
   },
   "file_extension": ".py",
   "mimetype": "text/x-python",
   "name": "python",
   "nbconvert_exporter": "python",
   "pygments_lexer": "ipython3",
   "version": "3.6.5"
  }
 },
 "nbformat": 4,
 "nbformat_minor": 2
}
